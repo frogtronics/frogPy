{
 "metadata": {
  "name": "",
  "signature": "sha256:5648536fcb4c92cd33b9d13615ba458b8e08d8579df5bf133aac3509ea322c9e"
 },
 "nbformat": 3,
 "nbformat_minor": 0,
 "worksheets": [
  {
   "cells": [
    {
     "cell_type": "code",
     "collapsed": false,
     "input": [
      "from sympy import symbols, eye, sin, cos, Matrix, lambdify\n",
      "from sympy import ones as ones_sym\n",
      "from sympy import zeros as zeros_sym\n",
      "from numpy import array, concatenate, arange, linspace, ones, vstack, reshape, identity\n",
      "from scipy import sin as Sin  \n",
      "from scipy import cos as Cos \n",
      "\n",
      "# \"http://inside.mines.edu/fs_home/gmurray/ArbitraryAxisRotation/\"\"\n",
      "#Aresult of rotating the point (x,y,z) about the line through (a,b,c) \n",
      "# with direction vector (u, v, w) where u^2 + v^2 + w^2 = 1 by angle theta\n",
      "\n",
      "class r3array:\n",
      "    def __init__(self, x_points, y_points, z_points):\n",
      "        self.x_points = x_points\n",
      "        self.y_points = y_points\n",
      "        self.z_points = z_points\n",
      "        self.npoints = len(x_points)\n",
      "        self.MR = zeros_sym(4*self.npoints, 4*self.npoints)\n",
      "\n",
      "    def MRcheck(self):\n",
      "        return self.MR\n",
      "    \n",
      "    def rotmat(self, uvw_vector, abc_point):\n",
      "        theta = symbols('theta')\n",
      "        R = eye(4)\n",
      "        u, v, w = uvw_vector[0], uvw_vector[1], uvw_vector[2]\n",
      "        a, b, c = abc_point[0], abc_point[1], abc_point[2]\n",
      "        R[0, 0] = u**2 + (v**2 + w**2)*cos(theta)\n",
      "        R[1, 0] = u*v*(1 - cos(theta)) + w*sin(theta)\n",
      "        R[2, 0] = u*w*(1 - cos(theta)) - v*sin(theta)\n",
      "        R[3, 0] = 0\n",
      "        R[0, 1] = u*v*(1 - cos(theta)) - w*sin(theta)\n",
      "        R[1, 1] = v**2 + (u**2 + w**2)*cos(theta)\n",
      "        R[2, 1] = v*w*(1 - cos(theta)) + u*sin(theta)\n",
      "        R[3, 1] = 0\n",
      "        R[0, 2] = u*w*(1 - cos(theta)) + v*sin(theta)\n",
      "        R[1, 2] = v*w*(1 - cos(theta)) - u*sin(theta)\n",
      "        R[2, 2] = w**2 + (u**2 + v**2)*cos(theta)\n",
      "        R[3, 2] = 0\n",
      "        R[0, 3] = (a*(v**2 + w**2) - u*(b*v + c*w))*(1 - cos(theta)) + (b*w - c*v)*sin(theta)\n",
      "        R[1, 3] = (b*(u**2 + w**2) - v*(a*u + c*w))*(1 - cos(theta)) + (c*u - a*w)*sin(theta)\n",
      "        R[2, 3] = (c*(u**2 + v**2) - w*(a*u + b*v))*(1 - cos(theta)) + (a*v - b*u)*sin(theta)\n",
      "        R[3, 3] = 1\n",
      "        # tile the rotation matrix daon the diagonal of a 4*n x 4*n identity matrix. n = n points\n",
      "        starts = arange(0, (self.npoints - 1)*4 + 1, 4)\n",
      "        ends = arange(4, self.npoints*4  + 1, 4)\n",
      "        #MR = eye(4*npoints)\n",
      "        for i in arange(self.npoints):\n",
      "            self.MR[starts[i]: ends[i], starts[i]: ends[i]] = R\n",
      "        return self.MR\n",
      "\n",
      "\n"
     ],
     "language": "python",
     "metadata": {},
     "outputs": [],
     "prompt_number": 21
    },
    {
     "cell_type": "code",
     "collapsed": false,
     "input": [
      "b = arange(6)\n",
      "c = r3array(b, b, b)\n"
     ],
     "language": "python",
     "metadata": {},
     "outputs": [],
     "prompt_number": 22
    },
    {
     "cell_type": "code",
     "collapsed": false,
     "input": [
      "c.rotmat([1, 0, 0], [0, 0, 0])"
     ],
     "language": "python",
     "metadata": {},
     "outputs": [
      {
       "metadata": {},
       "output_type": "pyout",
       "prompt_number": 23,
       "text": [
        "Matrix([\n",
        "[1,          0,           0, 0, 0,          0,           0, 0, 0,          0,           0, 0, 0,          0,           0, 0, 0,          0,           0, 0, 0,          0,           0, 0],\n",
        "[0, cos(theta), -sin(theta), 0, 0,          0,           0, 0, 0,          0,           0, 0, 0,          0,           0, 0, 0,          0,           0, 0, 0,          0,           0, 0],\n",
        "[0, sin(theta),  cos(theta), 0, 0,          0,           0, 0, 0,          0,           0, 0, 0,          0,           0, 0, 0,          0,           0, 0, 0,          0,           0, 0],\n",
        "[0,          0,           0, 1, 0,          0,           0, 0, 0,          0,           0, 0, 0,          0,           0, 0, 0,          0,           0, 0, 0,          0,           0, 0],\n",
        "[0,          0,           0, 0, 1,          0,           0, 0, 0,          0,           0, 0, 0,          0,           0, 0, 0,          0,           0, 0, 0,          0,           0, 0],\n",
        "[0,          0,           0, 0, 0, cos(theta), -sin(theta), 0, 0,          0,           0, 0, 0,          0,           0, 0, 0,          0,           0, 0, 0,          0,           0, 0],\n",
        "[0,          0,           0, 0, 0, sin(theta),  cos(theta), 0, 0,          0,           0, 0, 0,          0,           0, 0, 0,          0,           0, 0, 0,          0,           0, 0],\n",
        "[0,          0,           0, 0, 0,          0,           0, 1, 0,          0,           0, 0, 0,          0,           0, 0, 0,          0,           0, 0, 0,          0,           0, 0],\n",
        "[0,          0,           0, 0, 0,          0,           0, 0, 1,          0,           0, 0, 0,          0,           0, 0, 0,          0,           0, 0, 0,          0,           0, 0],\n",
        "[0,          0,           0, 0, 0,          0,           0, 0, 0, cos(theta), -sin(theta), 0, 0,          0,           0, 0, 0,          0,           0, 0, 0,          0,           0, 0],\n",
        "[0,          0,           0, 0, 0,          0,           0, 0, 0, sin(theta),  cos(theta), 0, 0,          0,           0, 0, 0,          0,           0, 0, 0,          0,           0, 0],\n",
        "[0,          0,           0, 0, 0,          0,           0, 0, 0,          0,           0, 1, 0,          0,           0, 0, 0,          0,           0, 0, 0,          0,           0, 0],\n",
        "[0,          0,           0, 0, 0,          0,           0, 0, 0,          0,           0, 0, 1,          0,           0, 0, 0,          0,           0, 0, 0,          0,           0, 0],\n",
        "[0,          0,           0, 0, 0,          0,           0, 0, 0,          0,           0, 0, 0, cos(theta), -sin(theta), 0, 0,          0,           0, 0, 0,          0,           0, 0],\n",
        "[0,          0,           0, 0, 0,          0,           0, 0, 0,          0,           0, 0, 0, sin(theta),  cos(theta), 0, 0,          0,           0, 0, 0,          0,           0, 0],\n",
        "[0,          0,           0, 0, 0,          0,           0, 0, 0,          0,           0, 0, 0,          0,           0, 1, 0,          0,           0, 0, 0,          0,           0, 0],\n",
        "[0,          0,           0, 0, 0,          0,           0, 0, 0,          0,           0, 0, 0,          0,           0, 0, 1,          0,           0, 0, 0,          0,           0, 0],\n",
        "[0,          0,           0, 0, 0,          0,           0, 0, 0,          0,           0, 0, 0,          0,           0, 0, 0, cos(theta), -sin(theta), 0, 0,          0,           0, 0],\n",
        "[0,          0,           0, 0, 0,          0,           0, 0, 0,          0,           0, 0, 0,          0,           0, 0, 0, sin(theta),  cos(theta), 0, 0,          0,           0, 0],\n",
        "[0,          0,           0, 0, 0,          0,           0, 0, 0,          0,           0, 0, 0,          0,           0, 0, 0,          0,           0, 1, 0,          0,           0, 0],\n",
        "[0,          0,           0, 0, 0,          0,           0, 0, 0,          0,           0, 0, 0,          0,           0, 0, 0,          0,           0, 0, 1,          0,           0, 0],\n",
        "[0,          0,           0, 0, 0,          0,           0, 0, 0,          0,           0, 0, 0,          0,           0, 0, 0,          0,           0, 0, 0, cos(theta), -sin(theta), 0],\n",
        "[0,          0,           0, 0, 0,          0,           0, 0, 0,          0,           0, 0, 0,          0,           0, 0, 0,          0,           0, 0, 0, sin(theta),  cos(theta), 0],\n",
        "[0,          0,           0, 0, 0,          0,           0, 0, 0,          0,           0, 0, 0,          0,           0, 0, 0,          0,           0, 0, 0,          0,           0, 1]])"
       ]
      }
     ],
     "prompt_number": 23
    },
    {
     "cell_type": "code",
     "collapsed": false,
     "input": [],
     "language": "python",
     "metadata": {},
     "outputs": [],
     "prompt_number": 19
    },
    {
     "cell_type": "code",
     "collapsed": false,
     "input": [],
     "language": "python",
     "metadata": {},
     "outputs": [],
     "prompt_number": 70
    },
    {
     "cell_type": "code",
     "collapsed": false,
     "input": [],
     "language": "python",
     "metadata": {},
     "outputs": [],
     "prompt_number": 71
    },
    {
     "cell_type": "code",
     "collapsed": false,
     "input": [],
     "language": "python",
     "metadata": {},
     "outputs": [],
     "prompt_number": 0
    },
    {
     "cell_type": "code",
     "collapsed": false,
     "input": [
      "\n"
     ],
     "language": "python",
     "metadata": {},
     "outputs": [],
     "prompt_number": 0
    },
    {
     "cell_type": "code",
     "collapsed": false,
     "input": [],
     "language": "python",
     "metadata": {},
     "outputs": [],
     "prompt_number": 0
    },
    {
     "cell_type": "code",
     "collapsed": false,
     "input": [],
     "language": "python",
     "metadata": {},
     "outputs": [],
     "prompt_number": 0
    },
    {
     "cell_type": "code",
     "collapsed": false,
     "input": [],
     "language": "python",
     "metadata": {},
     "outputs": [],
     "prompt_number": 0
    },
    {
     "cell_type": "code",
     "collapsed": false,
     "input": [],
     "language": "python",
     "metadata": {},
     "outputs": [],
     "prompt_number": 0
    },
    {
     "cell_type": "code",
     "collapsed": false,
     "input": [],
     "language": "python",
     "metadata": {},
     "outputs": [],
     "prompt_number": 0
    },
    {
     "cell_type": "code",
     "collapsed": false,
     "input": [],
     "language": "python",
     "metadata": {},
     "outputs": [],
     "prompt_number": 0
    },
    {
     "cell_type": "code",
     "collapsed": false,
     "input": [],
     "language": "python",
     "metadata": {},
     "outputs": [],
     "prompt_number": 0
    },
    {
     "cell_type": "code",
     "collapsed": false,
     "input": [],
     "language": "python",
     "metadata": {},
     "outputs": []
    }
   ],
   "metadata": {}
  }
 ]
}